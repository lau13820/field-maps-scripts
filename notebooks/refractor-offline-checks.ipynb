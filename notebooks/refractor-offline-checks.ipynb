{
 "cells": [
  {
   "cell_type": "code",
   "execution_count": 94,
   "metadata": {},
   "outputs": [],
   "source": [
    "from arcgis.gis import GIS\n",
    "from arcgis.mapping import WebMap\n",
    "from arcgis.features import FeatureLayerCollection\n",
    "from arcgis.features import FeatureLayer\n",
    "from arcgis.mapping import MapServiceLayer\n",
    "from arcgis.mapping import VectorTileLayer\n"
   ]
  },
  {
   "cell_type": "code",
   "execution_count": 95,
   "metadata": {},
   "outputs": [],
   "source": [
    "def is_supported_layer_type(layer):\n",
    "    try:\n",
    "        layer_type = layer['layerType'] if 'layerType' in layer else layer.layerType\n",
    "        return layer_type in ['ArcGISFeatureLayer',\n",
    "                               'GroupLayer',\n",
    "                               'ArcGISImageServiceLayer',\n",
    "                               'ArcGISTiledImageServiceLayer',\n",
    "                               'ArcGISTiledMapServiceLayer',\n",
    "                               'SubtypeGroupLayer',\n",
    "                               'VectorTileLayer'], \"\"\n",
    "    except AttributeError:\n",
    "        return False, 'Layer Type not supported on Field Maps.'\n"
   ]
  },
  {
   "cell_type": "code",
   "execution_count": 96,
   "metadata": {},
   "outputs": [],
   "source": [
    "def is_export_enabled_map_service_layer(basemapLayer):\n",
    "    try:\n",
    "        ms_url = basemapLayer['url']\n",
    "        msl = MapServiceLayer(ms_url)\n",
    "        return msl.properties.exportTilesAllowed\n",
    "    except KeyError:\n",
    "        print(\"todo: add vector tile service check\")\n",
    "        return False\n",
    "        \n",
    "\n",
    "\n",
    "    "
   ]
  },
  {
   "cell_type": "code",
   "execution_count": 97,
   "metadata": {},
   "outputs": [],
   "source": [
    "def check_basemap(basemap):\n",
    "    for basemap_layer in basemap['baseMapLayers']:\n",
    "        if not is_export_enabled_map_service_layer(basemap_layer):\n",
    "            return is_export_enabled_map_service_layer(basemap_layer), \"Export not enabled\"\n",
    "        else:\n",
    "            return True, \"\"\n",
    "            \n",
    "       "
   ]
  },
  {
   "cell_type": "code",
   "execution_count": 98,
   "metadata": {},
   "outputs": [],
   "source": [
    "def create_layer_dictionary(layer):\n",
    "    result, message = is_supported_layer_type(layer)\n",
    "    data = {}\n",
    "    if not result:\n",
    "        data['message'] = message\n",
    "    data['result'] = result\n",
    "    \n",
    "    return data\n",
    "\n"
   ]
  },
  {
   "cell_type": "code",
   "execution_count": 99,
   "metadata": {},
   "outputs": [],
   "source": [
    "def create_basemap_dictionary(basemap):\n",
    "    result, message = check_basemap(basemap)\n",
    "    data = {}\n",
    "    if not result:\n",
    "        data['message'] = message\n",
    "    data['result'] = result\n",
    "    \n",
    "    return data\n",
    "\n"
   ]
  },
  {
   "cell_type": "code",
   "execution_count": 100,
   "metadata": {},
   "outputs": [
    {
     "name": "stdout",
     "output_type": "stream",
     "text": [
      "Enter your ArcGIS account user name: \n",
      "Connected to www.arcgis.com\n"
     ]
    }
   ],
   "source": [
    "#gis = GIS(\"home\")\n",
    "print('Enter your ArcGIS account user name: ')\n",
    "username = input()\n",
    "gis = GIS('https://www.arcgis.com', username)\n",
    "print('Connected to {}'.format(gis.properties.portalHostname))"
   ]
  },
  {
   "cell_type": "code",
   "execution_count": 101,
   "metadata": {},
   "outputs": [],
   "source": [
    "map_item_id_to_check = '3ab9f6b8736745d0ac1e1f8dd06fdbd4'\n",
    "map_item = gis.content.get(map_item_id_to_check)\n",
    "offline_map = WebMap(map_item)\n",
    "\n"
   ]
  },
  {
   "cell_type": "code",
   "execution_count": 102,
   "metadata": {},
   "outputs": [
    {
     "name": "stdout",
     "output_type": "stream",
     "text": [
      "Layer Type not supported on Field Maps.\n"
     ]
    }
   ],
   "source": [
    "result_layer_dict = create_layer_dictionary(offline_map.layers)\n",
    "print(result_layer_dict['message'])"
   ]
  },
  {
   "cell_type": "code",
   "execution_count": 103,
   "metadata": {},
   "outputs": [
    {
     "name": "stdout",
     "output_type": "stream",
     "text": [
      "Export not enabled\n"
     ]
    }
   ],
   "source": [
    "result_basemap_dict = create_basemap_dictionary(offline_map.basemap)\n",
    "print(result_basemap_dict['message'])"
   ]
  }
 ],
 "metadata": {
  "kernelspec": {
   "display_name": "environment",
   "language": "python",
   "name": "python3"
  },
  "language_info": {
   "codemirror_mode": {
    "name": "ipython",
    "version": 3
   },
   "file_extension": ".py",
   "mimetype": "text/x-python",
   "name": "python",
   "nbconvert_exporter": "python",
   "pygments_lexer": "ipython3",
   "version": "3.11.9"
  }
 },
 "nbformat": 4,
 "nbformat_minor": 2
}
