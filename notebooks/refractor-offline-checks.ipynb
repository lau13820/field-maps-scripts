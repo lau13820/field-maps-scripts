{
 "cells": [
  {
   "cell_type": "code",
   "execution_count": null,
   "metadata": {},
   "outputs": [],
   "source": [
    "from arcgis.gis import GIS\n",
    "from arcgis.mapping import WebMap\n",
    "from arcgis.features import FeatureLayerCollection\n",
    "from arcgis.features import FeatureLayer\n",
    "from arcgis.mapping import MapServiceLayer\n",
    "from arcgis.mapping import VectorTileLayer\n"
   ]
  },
  {
   "cell_type": "code",
   "execution_count": null,
   "metadata": {},
   "outputs": [],
   "source": [
    "def is_supported_layer_type(layer) -> bool:\n",
    "    #print(layer['layerType'])\n",
    "    layer_type = layer['layerType'] if 'layerType' in layer else layer.layerType\n",
    "    return layer_type in ['ArcGISFeatureLayer',\n",
    "                               'GroupLayer',\n",
    "                               'ArcGISImageServiceLayer',\n",
    "                               'ArcGISTiledImageServiceLayer',\n",
    "                               'ArcGISTiledMapServiceLayer',\n",
    "                               'SubtypeGroupLayer',\n",
    "                               'VectorTileLayer']\n"
   ]
  },
  {
   "cell_type": "code",
   "execution_count": null,
   "metadata": {},
   "outputs": [],
   "source": [
    "def is_export_enabled_map_service_layer(basemapLayer) -> bool:\n",
    "    msl = MapServiceLayer(basemapLayer['url'])\n",
    "    #print(msl.properties)\n",
    "    #print(msl.properties.exportTilesAllowed)\n",
    "    return msl.properties.exportTilesAllowed"
   ]
  },
  {
   "cell_type": "code",
   "execution_count": null,
   "metadata": {},
   "outputs": [],
   "source": [
    "\n",
    "def check_basemap(basemap) -> bool:\n",
    "    for basemap_layer in basemap['baseMapLayers']:\n",
    "        print(f'{basemap_layer[\"title\"]} export enabled: {is_export_enabled_map_service_layer(basemap_layer)}')"
   ]
  },
  {
   "cell_type": "code",
   "execution_count": null,
   "metadata": {},
   "outputs": [],
   "source": [
    "gis = GIS(\"home\")\n",
    "map_item_id_to_check = '04527af92fbc4cb685782a552d14591b'\n",
    "\n",
    "map_item = gis.content.get(map_item_id_to_check)\n",
    "offline_map = WebMap(map_item)\n",
    "\n",
    "is_supported_layer_type(offline_map)\n",
    "check_basemap(offline_map.basemap)"
   ]
  }
 ],
 "metadata": {
  "kernelspec": {
   "display_name": "environment",
   "language": "python",
   "name": "python3"
  },
  "language_info": {
   "name": "python",
   "version": "3.1.-1"
  }
 },
 "nbformat": 4,
 "nbformat_minor": 2
}
